{
 "cells": [
  {
   "cell_type": "code",
   "execution_count": 1,
   "metadata": {},
   "outputs": [],
   "source": [
    "from __future__ import print_function\n",
    "import cobra\n",
    "import cobra.test\n",
    "from os.path import join\n",
    "cobra.DictList\n",
    "\n",
    "#iRhto1108N_model with biomass as objective\n",
    "iRhto1108N_model = cobra.io.read_sbml_model(join(r\"C:\\Users\\helen\\Desktop\\spring2020\\Rao lab\\first paper\\iRhto_memote-master\", \"iRhto.xml\"))\n",
    "iRhto1108N_model2 = cobra.io.read_sbml_model(join(r\"C:\\Users\\helen\\Desktop\\spring2020\\Rao lab\\first paper\\iRhto_memote-master\", \"iRhto.xml\"))\n",
    "iRhto1108N_model2.objective = \"PDAGATpc_rm\""
   ]
  },
  {
   "cell_type": "code",
   "execution_count": 2,
   "metadata": {
    "scrolled": true
   },
   "outputs": [],
   "source": [
    "import pandas as pd \n",
    "import numpy as np\n",
    "#import media information\n",
    "#column 0 is name of exchange reaction, column 1 is upperbound in mM/h/gwd\n",
    "YNBWAAAS = pd.read_excel(\"C:/Users/helen/Desktop/spring2020/Rao lab/media_YPD.xlsx\", 'rest of ynbwaaas 103', header = None)\n",
    "YNBWAAAS = YNBWAAAS.to_numpy()\n",
    "media_without_ynb = pd.read_excel(\"C:/Users/helen/Desktop/spring2020/Rao lab/media_YPD.xlsx\", 'media without ynb', header = None)\n",
    "media_without_ynb = media_without_ynb.to_numpy()\n",
    "\n",
    "#initialize storage: row 0 being leucine, row 1 being isoleucine, row 2 being valine.\n",
    "#Column 0 being growth rate, column 1 being TAG production  \n",
    "# Note: these arrays are transposed for visualization purposes in the second to last cell\n",
    "CN_5 = np.zeros((3,2))\n",
    "CN_100 = np.zeros((3,2))\n",
    "CN_150 = np.zeros((3,2))"
   ]
  },
  {
   "cell_type": "code",
   "execution_count": 3,
   "metadata": {},
   "outputs": [
    {
     "name": "stdout",
     "output_type": "stream",
     "text": [
      "[['EX_so4_e' 0.217]\n",
      " ['EX_mg2_e' 0.868]\n",
      " ['EX_ca2_e' 0.104]\n",
      " ['EX_pi_e' 0.439]]\n",
      "[['EX_glc__D_e' 4.63 4.63 4.63]\n",
      " ['EX_nh4_e' 4.75 0.238 0.159]\n",
      " ['EX_cl_e' 4.99 0.475 0.397]\n",
      " ['EX_na1_e' 2.26 2.26 2.26]\n",
      " ['EX_k_e' 6.27 6.27 6.27]]\n"
     ]
    }
   ],
   "source": [
    "print(YNBWAAAS)\n",
    "print(media_without_ynb)\n",
    "#initialize medium storage\n",
    "test_medium = iRhto1108N_model.medium\n",
    "medium_v = []\n",
    "medium_l = []\n",
    "medium_il = []\n"
   ]
  },
  {
   "cell_type": "code",
   "execution_count": 4,
   "metadata": {},
   "outputs": [
    {
     "data": {
      "text/plain": [
       "0.3473565879315005"
      ]
     },
     "execution_count": 4,
     "metadata": {},
     "output_type": "execute_result"
    }
   ],
   "source": [
    "#original growth rate\n",
    "growth = 0\n",
    "with iRhto1108N_model:\n",
    "    medium = test_medium.copy()\n",
    "    for i in range(len(YNBWAAAS)):\n",
    "        medium[YNBWAAAS[i][0]] = YNBWAAAS[i][1]\n",
    "    for j in range(len(media_without_ynb)):\n",
    "        medium[media_without_ynb[j][0]] = media_without_ynb[j][1]\n",
    "    iRhto1108N_model.medium = medium\n",
    "    test_medium = medium.copy()\n",
    "    growth = iRhto1108N_model.slim_optimize()\n",
    "growth"
   ]
  },
  {
   "cell_type": "code",
   "execution_count": 5,
   "metadata": {},
   "outputs": [],
   "source": [
    "#add valine to test growth rate\n",
    "with iRhto1108N_model:\n",
    "    medium = test_medium.copy()\n",
    "    for i in range(len(YNBWAAAS)):\n",
    "        medium[YNBWAAAS[i][0]] = YNBWAAAS[i][1]\n",
    "    for j in range(len(media_without_ynb)):\n",
    "        medium[media_without_ynb[j][0]] = media_without_ynb[j][1]\n",
    "    medium[\"EX_val__L_e\"] = 10/5\n",
    "    iRhto1108N_model.medium = medium\n",
    "    medium_v.append(medium.copy())\n",
    "    CN_5[2][0] = iRhto1108N_model.slim_optimize()\n",
    "\n",
    "with iRhto1108N_model:\n",
    "    medium = test_medium.copy()\n",
    "    for i in range(len(YNBWAAAS)):\n",
    "        medium[YNBWAAAS[i][0]] = YNBWAAAS[i][1]\n",
    "    for j in range(len(media_without_ynb)):\n",
    "        medium[media_without_ynb[j][0]] = media_without_ynb[j][2]\n",
    "    medium[\"EX_val__L_e\"] = 10/5\n",
    "    iRhto1108N_model.medium = medium\n",
    "    medium_v.append(medium.copy())\n",
    "    CN_100[2][0] = iRhto1108N_model.slim_optimize()\n",
    "\n",
    "with iRhto1108N_model:\n",
    "    medium = test_medium.copy()\n",
    "    for i in range(len(YNBWAAAS)):\n",
    "        medium[YNBWAAAS[i][0]] = YNBWAAAS[i][1]\n",
    "    for j in range(len(media_without_ynb)):\n",
    "        medium[media_without_ynb[j][0]] = media_without_ynb[j][3]\n",
    "    medium[\"EX_val__L_e\"] = 10/5\n",
    "    iRhto1108N_model.medium = medium\n",
    "    medium_v.append(medium.copy())\n",
    "    CN_150[2][0] = iRhto1108N_model.slim_optimize()"
   ]
  },
  {
   "cell_type": "code",
   "execution_count": 6,
   "metadata": {},
   "outputs": [],
   "source": [
    "#add leucine to test growth rate\n",
    "with iRhto1108N_model:\n",
    "    medium = test_medium.copy()\n",
    "    for i in range(len(YNBWAAAS)):\n",
    "        medium[YNBWAAAS[i][0]] = YNBWAAAS[i][1]\n",
    "    for j in range(len(media_without_ynb)):\n",
    "        medium[media_without_ynb[j][0]] = media_without_ynb[j][1]\n",
    "    medium[\"EX_leu__L_e\"] = 10/6\n",
    "    iRhto1108N_model.medium = medium\n",
    "    medium_l.append(medium.copy())\n",
    "    CN_5[0][0] = iRhto1108N_model.slim_optimize()\n",
    "\n",
    "with iRhto1108N_model:\n",
    "    medium = test_medium.copy()\n",
    "    for i in range(len(YNBWAAAS)):\n",
    "        medium[YNBWAAAS[i][0]] = YNBWAAAS[i][1]\n",
    "    for j in range(len(media_without_ynb)):\n",
    "        medium[media_without_ynb[j][0]] = media_without_ynb[j][2]\n",
    "    medium[\"EX_leu__L_e\"] = 10/6\n",
    "    iRhto1108N_model.medium = medium\n",
    "    medium_l.append(medium.copy())\n",
    "    CN_100[0][0] = iRhto1108N_model.slim_optimize()\n",
    "\n",
    "with iRhto1108N_model:\n",
    "    medium = test_medium.copy()\n",
    "    for i in range(len(YNBWAAAS)):\n",
    "        medium[YNBWAAAS[i][0]] = YNBWAAAS[i][1]\n",
    "    for j in range(len(media_without_ynb)):\n",
    "        medium[media_without_ynb[j][0]] = media_without_ynb[j][3]\n",
    "    medium[\"EX_leu__L_e\"] = 10/6\n",
    "    iRhto1108N_model.medium = medium\n",
    "    medium_l.append(medium.copy())\n",
    "    CN_150[0][0] = iRhto1108N_model.slim_optimize()"
   ]
  },
  {
   "cell_type": "code",
   "execution_count": 7,
   "metadata": {},
   "outputs": [],
   "source": [
    "#add isoleucine\n",
    "with iRhto1108N_model:\n",
    "    medium = test_medium.copy()\n",
    "    for i in range(len(YNBWAAAS)):\n",
    "        medium[YNBWAAAS[i][0]] = YNBWAAAS[i][1]\n",
    "    for j in range(len(media_without_ynb)):\n",
    "        medium[media_without_ynb[j][0]] = media_without_ynb[j][1]\n",
    "    medium[\"EX_ile__L_e\"] = 10/6\n",
    "    iRhto1108N_model.medium = medium\n",
    "    medium_il.append(medium.copy())\n",
    "    CN_5[1][0] = iRhto1108N_model.slim_optimize()\n",
    "    \n",
    "with iRhto1108N_model:\n",
    "    medium = test_medium.copy()\n",
    "    for i in range(len(YNBWAAAS)):\n",
    "        medium[YNBWAAAS[i][0]] = YNBWAAAS[i][1]\n",
    "    for j in range(len(media_without_ynb)):\n",
    "        medium[media_without_ynb[j][0]] = media_without_ynb[j][2]\n",
    "    medium[\"EX_ile__L_e\"] = 10/6\n",
    "    iRhto1108N_model.medium = medium\n",
    "    medium_il.append(medium.copy())\n",
    "    CN_100[1][0] = iRhto1108N_model.slim_optimize()\n",
    "    \n",
    "with iRhto1108N_model:\n",
    "    medium = test_medium.copy()\n",
    "    for i in range(len(YNBWAAAS)):\n",
    "        medium[YNBWAAAS[i][0]] = YNBWAAAS[i][1]\n",
    "    for j in range(len(media_without_ynb)):\n",
    "        medium[media_without_ynb[j][0]] = media_without_ynb[j][3]\n",
    "    medium[\"EX_ile__L_e\"] = 10/6\n",
    "    iRhto1108N_model.medium = medium\n",
    "    medium_il.append(medium.copy())\n",
    "    CN_150[1][0] = iRhto1108N_model.slim_optimize()"
   ]
  },
  {
   "cell_type": "code",
   "execution_count": 8,
   "metadata": {},
   "outputs": [],
   "source": [
    "#test TAG production\n",
    "TAG = 0\n",
    "with iRhto1108N_model2:\n",
    "    medium = test_medium.copy()\n",
    "    for i in range(len(YNBWAAAS)):\n",
    "        medium[YNBWAAAS[i][0]] = YNBWAAAS[i][1]\n",
    "    for j in range(len(media_without_ynb)):\n",
    "        medium[media_without_ynb[j][0]] = media_without_ynb[j][1]\n",
    "    iRhto1108N_model2.medium = medium\n",
    "    TAG = iRhto1108N_model2.slim_optimize()\n",
    "    \n",
    "################valine###################\n",
    "with iRhto1108N_model2:\n",
    "    iRhto1108N_model2.medium = medium_v[0]\n",
    "    CN_5[2][1] = iRhto1108N_model2.slim_optimize()\n",
    "\n",
    "with iRhto1108N_model2:\n",
    "    iRhto1108N_model2.medium = medium_v[1]\n",
    "    CN_100[2][1] = iRhto1108N_model2.slim_optimize()\n",
    "    \n",
    "with iRhto1108N_model2:\n",
    "    iRhto1108N_model2.medium = medium_v[2]\n",
    "    CN_150[2][1] = iRhto1108N_model2.slim_optimize()\n",
    "\n",
    "###################leucine \n",
    "with iRhto1108N_model2:\n",
    "    iRhto1108N_model2.medium = medium_l[0]\n",
    "    CN_5[0][1] = iRhto1108N_model2.slim_optimize()\n",
    "    \n",
    "with iRhto1108N_model2:\n",
    "    iRhto1108N_model2.medium = medium_l[1]\n",
    "    CN_100[0][1] = iRhto1108N_model2.slim_optimize()\n",
    "    \n",
    "with iRhto1108N_model2:\n",
    "    iRhto1108N_model2.medium = medium_l[2]\n",
    "    CN_150[0][1] = iRhto1108N_model2.slim_optimize()\n",
    "#####################isoleucine\n",
    "with iRhto1108N_model2:\n",
    "    iRhto1108N_model2.medium = medium_il[0]\n",
    "    CN_5[1][1] = iRhto1108N_model2.slim_optimize()\n",
    "\n",
    "with iRhto1108N_model2:\n",
    "    iRhto1108N_model2.medium = medium_il[1]\n",
    "    CN_100[1][1] = iRhto1108N_model2.slim_optimize()\n",
    "\n",
    "with iRhto1108N_model2:\n",
    "    iRhto1108N_model2.medium = medium_il[2]\n",
    "    CN_150[1][1] = iRhto1108N_model2.slim_optimize()\n",
    "\n"
   ]
  },
  {
   "cell_type": "code",
   "execution_count": 9,
   "metadata": {},
   "outputs": [
    {
     "name": "stdout",
     "output_type": "stream",
     "text": [
      "growth rate: 0.3753060889842357\n",
      "TAG production: 1.891282455207141\n",
      "{'EX_nh4_e': 1000.0, 'EX_glc__D_e': 5.0, 'EX_fe2_e': 1000.0, 'EX_o2_e': 1000.0, 'EX_pi_e': 1000.0, 'EX_na1_e': 1000.0, 'EX_so4_e': 1000.0, 'EX_h_e': 1000.0, 'EX_k_e': 1000.0, 'EX_h2o_e': 1000.0, 'EX_ca2_e': 1000.0, 'EX_cl_e': 1000.0, 'EX_cobalt2_e': 1000.0, 'EX_cu2_e': 1000.0, 'EX_mg2_e': 1000.0, 'EX_mn2_e': 1000.0, 'EX_zn2_e': 1000.0, 'EX_btn_c': 0.01}\n"
     ]
    }
   ],
   "source": [
    "#original growth rate and TAG production using the default media\n",
    "print(\"growth rate:\", iRhto1108N_model.slim_optimize())\n",
    "print(\"TAG production:\", iRhto1108N_model2.slim_optimize())\n",
    "print(iRhto1108N_model.medium)"
   ]
  },
  {
   "cell_type": "code",
   "execution_count": 10,
   "metadata": {},
   "outputs": [
    {
     "data": {
      "text/plain": [
       "array([[0.03685382, 0.238     ],\n",
       "       [0.03685382, 0.238     ],\n",
       "       [0.34654976, 0.439     ]])"
      ]
     },
     "execution_count": 10,
     "metadata": {},
     "output_type": "execute_result"
    }
   ],
   "source": [
    "CN_100"
   ]
  },
  {
   "cell_type": "code",
   "execution_count": 11,
   "metadata": {},
   "outputs": [
    {
     "data": {
      "text/plain": [
       "<matplotlib.legend.Legend at 0x1535bb8f5c8>"
      ]
     },
     "execution_count": 11,
     "metadata": {},
     "output_type": "execute_result"
    },
    {
     "data": {
      "image/png": "[encoded data removed]",
      "text/plain": [
       "<Figure size 576x576 with 3 Axes>"
      ]
     },
     "metadata": {
      "needs_background": "light"
     },
     "output_type": "display_data"
    }
   ],
   "source": [
    "import matplotlib\n",
    "import matplotlib.pyplot as plt\n",
    "\n",
    "fig, axs = plt.subplots(3, figsize=(8,8))\n",
    "fig.tight_layout(pad=3.0)\n",
    "fig.suptitle('Growth and TAG production rate with 10 C-mmol/h/gDCW amino acid as additional carbon source', fontsize=16)\n",
    "\n",
    "ax_5 = axs[0]\n",
    "ax_100 = axs[1]\n",
    "ax_150 = axs[2]\n",
    "\n",
    "barWidth = 0.15\n",
    "\n",
    "r1 = np.arange(len(CN_5[0]))\n",
    "r2 = [x + barWidth for x in r1]\n",
    "r3 = [x + barWidth for x in r2]\n",
    "\n",
    "ax_5.bar(r1, CN_5[0], color='#FFA500', width=barWidth, edgecolor='white', label='leucine')\n",
    "ax_5.bar(r2, CN_5[1], color='#FF4500', width=barWidth, edgecolor='white', label='isoleucine')\n",
    "ax_5.bar(r3, CN_5[2], color='#800000', width=barWidth, edgecolor='white', label='valine')\n",
    "ax_5.set_ylabel('flux rate', fontweight='bold')\n",
    "ax_5.set_xticks([r + barWidth for r in range(2)])\n",
    "ax_5.set_xticklabels(['Growth', 'TAG'])\n",
    "ax_5.set_xlabel('CN : 5', fontweight = 'bold')\n",
    "\n",
    "ax_5.legend()\n",
    "\n",
    "\n",
    "ax_100.bar(r1, CN_100[0], color='#FFA500', width=barWidth, edgecolor='white', label='leucine')\n",
    "ax_100.bar(r2, CN_100[1], color='#FF4500', width=barWidth, edgecolor='white', label='isoleucine')\n",
    "ax_100.bar(r3, CN_100[2], color='#800000', width=barWidth, edgecolor='white', label='valine')\n",
    "ax_100.set_ylabel('flux rate', fontweight='bold')\n",
    "ax_100.set_xlabel('CN : 100', fontweight = 'bold')\n",
    "ax_100.set_xticks([r + barWidth for r in range(2)])\n",
    "ax_100.set_xticklabels(['Growth', 'TAG'])\n",
    "ax_100.legend()\n",
    "\n",
    "\n",
    "ax_150.bar(r1, CN_150[0], color='#FFA500', width=barWidth, edgecolor='white', label='leucine')\n",
    "ax_150.bar(r2, CN_150[1], color='#FF4500', width=barWidth, edgecolor='white', label='isoleucine')\n",
    "ax_150.bar(r3, CN_150[2], color='#800000', width=barWidth, edgecolor='white', label='valine')\n",
    "ax_150.set_ylabel('flux rate', fontweight='bold')\n",
    "ax_150.set_xlabel('CN : 150', fontweight = 'bold')\n",
    "ax_150.set_xticks([r + barWidth for r in range(2)])\n",
    "ax_150.set_xticklabels(['Growth', 'TAG'])\n",
    "ax_150.legend()\n",
    "\n",
    "\n"
   ]
  }
 ],
 "metadata": {
  "kernelspec": {
   "display_name": "Python 3",
   "language": "python",
   "name": "python3"
  },
  "language_info": {
   "codemirror_mode": {
    "name": "ipython",
    "version": 3
   },
   "file_extension": ".py",
   "mimetype": "text/x-python",
   "name": "python",
   "nbconvert_exporter": "python",
   "pygments_lexer": "ipython3",
   "version": "3.7.6"
  }
 },
 "nbformat": 4,
 "nbformat_minor": 4
}
