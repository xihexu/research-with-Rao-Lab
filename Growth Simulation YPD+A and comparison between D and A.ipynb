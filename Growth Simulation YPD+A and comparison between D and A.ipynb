{
 "cells": [
  {
   "cell_type": "code",
   "execution_count": 1,
   "metadata": {},
   "outputs": [],
   "source": [
    "from __future__ import print_function\n",
    "import cobra\n",
    "import cobra.test\n",
    "from os.path import join\n",
    "cobra.DictList\n",
    "\n",
    "#iRhto1108N_model with biomass as objective\n",
    "iRhto1108N_model = cobra.io.read_sbml_model(join(r\"C:\\Users\\helen\\Desktop\\spring2020\\Rao lab\\first paper\\iRhto_memote-master\", \"iRhto.xml\"))\n",
    "iRhto1108N_model2 = cobra.io.read_sbml_model(join(r\"C:\\Users\\helen\\Desktop\\spring2020\\Rao lab\\first paper\\iRhto_memote-master\", \"iRhto.xml\"))\n",
    "iRhto1108N_model2.objective = \"PDAGATpc_rm\""
   ]
  },
  {
   "cell_type": "code",
   "execution_count": 2,
   "metadata": {},
   "outputs": [
    {
     "name": "stdout",
     "output_type": "stream",
     "text": [
      "[['EX_so4_e' 0.217]\n",
      " ['EX_mg2_e' 0.868]\n",
      " ['EX_ca2_e' 0.104]\n",
      " ['EX_pi_e' 0.439]]\n",
      "[['EX_glc__D_e' 4.63 4.63 4.63]\n",
      " ['EX_nh4_e' 4.75 0.238 0.159]\n",
      " ['EX_cl_e' 4.99 0.475 0.397]\n",
      " ['EX_na1_e' 2.26 2.26 2.26]\n",
      " ['EX_k_e' 6.27 6.27 6.27]]\n"
     ]
    }
   ],
   "source": [
    "import pandas as pd \n",
    "import numpy as np\n",
    "#import media information\n",
    "#column 0 is name of exchange reaction, column 1 is upperbound in mM/h/gwd\n",
    "YNBWAAAS = pd.read_excel(\"C:/Users/helen/Desktop/spring2020/Rao lab/media_YPD.xlsx\", 'rest of ynbwaaas 103', header = None)\n",
    "YNBWAAAS = YNBWAAAS.to_numpy()\n",
    "media_without_ynb = pd.read_excel(\"C:/Users/helen/Desktop/spring2020/Rao lab/media_YPD.xlsx\", 'media without ynb', header = None)\n",
    "media_without_ynb = media_without_ynb.to_numpy()\n",
    "\n",
    "print(YNBWAAAS)\n",
    "print(media_without_ynb)\n",
    "#initialize medium storage\n",
    "test_medium = []\n"
   ]
  },
  {
   "cell_type": "code",
   "execution_count": 4,
   "metadata": {},
   "outputs": [
    {
     "name": "stdout",
     "output_type": "stream",
     "text": [
      "0.3473565879315005\n",
      "1.8912824552071394\n"
     ]
    }
   ],
   "source": [
    "#Original growth rate and TAG production rate\n",
    "growth = 0\n",
    "growth2 = 0\n",
    "with iRhto1108N_model:\n",
    "    medium = iRhto1108N_model.medium\n",
    "    for i in range(len(YNBWAAAS)):\n",
    "        medium[YNBWAAAS[i][0]] = YNBWAAAS[i][1]\n",
    "    for j in range(len(media_without_ynb)):\n",
    "        medium[media_without_ynb[j][0]] = media_without_ynb[j][1]\n",
    "    iRhto1108N_model.medium = medium\n",
    "    test_medium.append(medium.copy())\n",
    "    growth = iRhto1108N_model.slim_optimize()\n",
    "    \n",
    "with iRhto1108N_model2:\n",
    "    medium = test_medium[0]\n",
    "    growth2 = iRhto1108N_model2.slim_optimize()\n",
    "print(growth)\n",
    "print(growth2)"
   ]
  },
  {
   "cell_type": "code",
   "execution_count": 6,
   "metadata": {},
   "outputs": [
    {
     "data": {
      "text/plain": [
       "array([[0.34735659, 0.37017572, 0.39299485, 0.41581398, 0.43863311,\n",
       "        0.46145224, 0.48427137, 0.5070905 , 0.52990964, 0.55272877,\n",
       "        0.5755479 , 0.59836703, 0.62118616, 0.64400529, 0.66682442,\n",
       "        0.68964355, 0.71246268, 0.73528181, 0.73552787, 0.73552787,\n",
       "        0.73552787, 0.73552787, 0.73552787, 0.73552787, 0.73552787,\n",
       "        0.73552787, 0.73552787, 0.73552787, 0.73552787, 0.73552787,\n",
       "        0.73552787, 0.73552787, 0.73552787, 0.73552787, 0.73552787,\n",
       "        0.73552787, 0.73552787, 0.73552787, 0.73552787, 0.73552787,\n",
       "        0.73552787, 0.73552787, 0.73552787, 0.73552787, 0.73552787,\n",
       "        0.73552787, 0.73552787, 0.73552787, 0.73552787, 0.73552787,\n",
       "        0.73552787, 0.73552787, 0.73552787, 0.73552787, 0.73552787,\n",
       "        0.73552787, 0.73552787, 0.73552787, 0.73552787, 0.73552787,\n",
       "        0.73552787, 0.73552787, 0.73552787, 0.73552787, 0.73552787,\n",
       "        0.73552787, 0.73552787, 0.73552787, 0.73552787, 0.73552787,\n",
       "        0.73552787, 0.73552787, 0.73552787, 0.73552787, 0.73552787,\n",
       "        0.73552787, 0.73552787, 0.73552787, 0.73552787, 0.73552787,\n",
       "        0.73552787, 0.73552787, 0.73552787, 0.73552787, 0.73552787,\n",
       "        0.73552787, 0.73552787, 0.73552787, 0.73552787, 0.73552787,\n",
       "        0.73552787, 0.73552787, 0.73552787, 0.73552787, 0.73552787,\n",
       "        0.73552787, 0.73552787, 0.73552787, 0.73552787, 0.73552787],\n",
       "       [0.439     , 0.439     , 0.439     , 0.439     , 0.439     ,\n",
       "        0.439     , 0.439     , 0.439     , 0.439     , 0.439     ,\n",
       "        0.439     , 0.439     , 0.439     , 0.439     , 0.439     ,\n",
       "        0.439     , 0.439     , 0.439     , 0.439     , 0.439     ,\n",
       "        0.439     , 0.439     , 0.439     , 0.439     , 0.439     ,\n",
       "        0.439     , 0.439     , 0.439     , 0.439     , 0.439     ,\n",
       "        0.439     , 0.439     , 0.439     , 0.439     , 0.439     ,\n",
       "        0.439     , 0.439     , 0.439     , 0.439     , 0.439     ,\n",
       "        0.439     , 0.439     , 0.439     , 0.439     , 0.439     ,\n",
       "        0.439     , 0.439     , 0.439     , 0.439     , 0.439     ,\n",
       "        0.439     , 0.439     , 0.439     , 0.439     , 0.439     ,\n",
       "        0.439     , 0.439     , 0.439     , 0.439     , 0.439     ,\n",
       "        0.439     , 0.439     , 0.439     , 0.439     , 0.439     ,\n",
       "        0.439     , 0.439     , 0.439     , 0.439     , 0.439     ,\n",
       "        0.439     , 0.439     , 0.439     , 0.439     , 0.439     ,\n",
       "        0.439     , 0.439     , 0.439     , 0.439     , 0.439     ,\n",
       "        0.439     , 0.439     , 0.439     , 0.439     , 0.439     ,\n",
       "        0.439     , 0.439     , 0.439     , 0.439     , 0.439     ,\n",
       "        0.439     , 0.439     , 0.439     , 0.439     , 0.439     ,\n",
       "        0.439     , 0.439     , 0.439     , 0.439     , 0.439     ]])"
      ]
     },
     "execution_count": 6,
     "metadata": {},
     "output_type": "execute_result"
    }
   ],
   "source": [
    "#glucose and acetate\n",
    "CN_5_a = np.zeros((2,100))\n",
    "CN_100_a = np.zeros((2,100))\n",
    "CN_150_a = np.zeros((2,100))\n",
    "\n",
    "with iRhto1108N_model:\n",
    "    medium = test_medium[0]\n",
    "    for k in range(100):\n",
    "        medium[\"EX_ac_e\"] = k*100/100\n",
    "        iRhto1108N_model.medium = medium\n",
    "        CN_5_a[0][k] = iRhto1108N_model.slim_optimize()\n",
    "\n",
    "with iRhto1108N_model:\n",
    "    medium = iRhto1108N_model.medium\n",
    "    for i in range(len(YNBWAAAS)):\n",
    "        medium[YNBWAAAS[i][0]] = YNBWAAAS[i][1]\n",
    "    for j in range(len(media_without_ynb)):\n",
    "        medium[media_without_ynb[j][0]] = media_without_ynb[j][2]\n",
    "    test_medium.append(medium.copy())\n",
    "    for k in range(100):\n",
    "        medium[\"EX_ac_e\"] = k*100/100\n",
    "        iRhto1108N_model.medium = medium\n",
    "        CN_100_a[0][k] = iRhto1108N_model.slim_optimize()\n",
    "        \n",
    "with iRhto1108N_model:\n",
    "    medium = iRhto1108N_model.medium\n",
    "    for i in range(len(YNBWAAAS)):\n",
    "        medium[YNBWAAAS[i][0]] = YNBWAAAS[i][1]\n",
    "    for j in range(len(media_without_ynb)):\n",
    "        medium[media_without_ynb[j][0]] = media_without_ynb[j][3]\n",
    "    test_medium.append(medium.copy())\n",
    "    for k in range(100):\n",
    "        medium[\"EX_ac_e\"] = k*100/100\n",
    "        iRhto1108N_model.medium = medium\n",
    "        CN_150_a[0][k] = iRhto1108N_model.slim_optimize()\n",
    "\n",
    "with iRhto1108N_model2:\n",
    "    medium = test_medium[0]\n",
    "    for k in range(100):\n",
    "        medium[\"EX_ac_e\"] = k*100/100\n",
    "        iRhto1108N_model2.medium = medium\n",
    "        CN_5_a[1][k] = iRhto1108N_model2.slim_optimize()\n",
    "\n",
    "with iRhto1108N_model2:\n",
    "    medium = test_medium[1]\n",
    "    for k in range(100):\n",
    "        medium[\"EX_ac_e\"] = k*100/100\n",
    "        iRhto1108N_model2.medium = medium\n",
    "        CN_100_a[1][k] = iRhto1108N_model2.slim_optimize()\n",
    "        \n",
    "with iRhto1108N_model2:\n",
    "    medium = test_medium[2]\n",
    "    for k in range(100):\n",
    "        medium[\"EX_ac_e\"] = k*100/100\n",
    "        iRhto1108N_model2.medium = medium\n",
    "        CN_150_a[1][k] = iRhto1108N_model2.slim_optimize()\n",
    "\n",
    "CN_5_a"
   ]
  },
  {
   "cell_type": "code",
   "execution_count": 7,
   "metadata": {},
   "outputs": [
    {
     "data": {
      "text/plain": [
       "<matplotlib.legend.Legend at 0x24ddab50608>"
      ]
     },
     "execution_count": 7,
     "metadata": {},
     "output_type": "execute_result"
    },
    {
     "data": {
      "image/png": "[encoded data removed]",
      "text/plain": [
       "<Figure size 432x288 with 1 Axes>"
      ]
     },
     "metadata": {
      "needs_background": "light"
     },
     "output_type": "display_data"
    }
   ],
   "source": [
    "import matplotlib\n",
    "import matplotlib.pyplot as plt\n",
    "ace_x = np.linspace(1, 100, 100)\n",
    "\n",
    "plt.plot(ace_x, CN_5_a[0], label = \"CN_5\")\n",
    "plt.plot(ace_x, CN_100_a[0], color = \"red\", label = \"CN_100\")\n",
    "plt.plot(ace_x, CN_150_a[0], color = \"green\", label = \"CN_150\")\n",
    "x_coordinates = [0, 100]\n",
    "y_coordinates = [0.347, 0.347]\n",
    "plt.plot(x_coordinates, y_coordinates, color = \"black\", label = \"0.347(optimal growth without acetate)\")\n",
    "plt.xlabel(\"acetate addition mmol/h/gdw\")\n",
    "plt.ylabel(\"growth yield %\")\n",
    "plt.legend()"
   ]
  },
  {
   "cell_type": "code",
   "execution_count": 9,
   "metadata": {},
   "outputs": [
    {
     "data": {
      "text/plain": [
       "<matplotlib.legend.Legend at 0x24ddac6de48>"
      ]
     },
     "execution_count": 9,
     "metadata": {},
     "output_type": "execute_result"
    },
    {
     "data": {
      "image/png": "[encoded data removed]",
      "text/plain": [
       "<Figure size 432x288 with 1 Axes>"
      ]
     },
     "metadata": {
      "needs_background": "light"
     },
     "output_type": "display_data"
    }
   ],
   "source": [
    "ace_x = np.linspace(1, 100, 100)\n",
    "\n",
    "plt.plot(ace_x, CN_5_a[1], label = \"CN_5\")\n",
    "plt.plot(ace_x, CN_100_a[1], color = \"red\", label = \"CN_100\")\n",
    "plt.plot(ace_x, CN_150_a[1], color = \"green\", label = \"CN_150\")\n",
    "x_coordinates = [0, 100]\n",
    "y_coordinates = [growth2, growth2]\n",
    "plt.plot(x_coordinates, y_coordinates, color = \"black\", label = \"1.89(optimal growth without acetate)\")\n",
    "plt.xlabel(\"acetate addition mmol/h/gdw\")\n",
    "plt.ylabel(\"TAG yield %\")\n",
    "plt.legend()"
   ]
  },
  {
   "cell_type": "code",
   "execution_count": 11,
   "metadata": {},
   "outputs": [],
   "source": [
    "# Comparison with YPD and YPA\n",
    "\n",
    "CN_5_d = np.zeros((2,100))\n",
    "CN_5_oa = np.zeros((2,100))\n",
    "\n",
    "YNBWAAAS_a = pd.read_excel(\"C:/Users/helen/Desktop/spring2020/Rao lab/media_YPA.xlsx\", 'rest of ynbwaaas 103', header = None)\n",
    "YNBWAAAS_a = YNBWAAAS_a.to_numpy()\n",
    "media_without_ynb_a = pd.read_excel(\"C:/Users/helen/Desktop/spring2020/Rao lab/media_YPA.xlsx\", 'media without ynb', header = None)\n",
    "media_without_ynb_a = media_without_ynb_a.to_numpy()\n",
    "\n",
    "test_medium_a = []"
   ]
  },
  {
   "cell_type": "code",
   "execution_count": 19,
   "metadata": {},
   "outputs": [],
   "source": [
    "test = 0\n",
    "with iRhto1108N_model:\n",
    "    medium = test_medium[0]\n",
    "    medium[\"EX_glc__D_e\"] = 0\n",
    "#     for k in range(100):\n",
    "#         medium[\"EX_glc__D_e\"] = k*100/100\n",
    "#         iRhto1108N_model.medium = medium\n",
    "#         CN_5_d[0][k] = iRhto1108N_model.slim_optimize()\n",
    "    iRhto1108N_model.medium = medium\n",
    "    test = iRhto1108N_model.slim_optimize()\n",
    "\n",
    "with iRhto1108N_model:\n",
    "    medium = iRhto1108N_model.medium\n",
    "    for i in range(len(YNBWAAAS)):\n",
    "        medium[YNBWAAAS_a[i][0]] = YNBWAAAS_a[i][1]\n",
    "    for j in range(len(media_without_ynb)):\n",
    "        medium[media_without_ynb_a[j][0]] = media_without_ynb_a[j][1]\n",
    "    test_medium_a.append(medium.copy())\n",
    "    for k in range(100):\n",
    "        medium[\"EX_ac_e\"] = k*100/100\n",
    "        iRhto1108N_model.medium = medium\n",
    "        CN_5_oa[0][k] = iRhto1108N_model.slim_optimize()\n"
   ]
  },
  {
   "cell_type": "code",
   "execution_count": 17,
   "metadata": {},
   "outputs": [
    {
     "data": {
      "text/plain": [
       "<matplotlib.legend.Legend at 0x24ddad5c408>"
      ]
     },
     "execution_count": 17,
     "metadata": {},
     "output_type": "execute_result"
    },
    {
     "data": {
      "image/png": "[encoded data removed]",
      "text/plain": [
       "<Figure size 432x288 with 1 Axes>"
      ]
     },
     "metadata": {
      "needs_background": "light"
     },
     "output_type": "display_data"
    }
   ],
   "source": [
    "ace_x = np.linspace(1, 100, 100)\n",
    "\n",
    "plt.plot(ace_x, CN_5_d[0], label = \"YPD\")\n",
    "plt.plot(ace_x, CN_5_oa[0], color = \"red\", label = \"YPA\")\n",
    "#plt.plot(ace_x, CN_150_a[1], color = \"green\", label = \"CN_150\")\n",
    "# x_coordinates = [0, 100]\n",
    "# y_coordinates = [growth2, growth2]\n",
    "# plt.plot(x_coordinates, y_coordinates, color = \"black\", label = \"1.89(optimal growth without acetate)\")\n",
    "plt.xlabel(\"acetate or glucose addition mmol/h/gdw\")\n",
    "plt.ylabel(\"Growth Rate %\")\n",
    "plt.legend()"
   ]
  },
  {
   "cell_type": "code",
   "execution_count": 20,
   "metadata": {},
   "outputs": [
    {
     "name": "stdout",
     "output_type": "stream",
     "text": [
      "0.735527869770321\n"
     ]
    }
   ],
   "source": [
    "print(test)"
   ]
  }
 ],
 "metadata": {
  "kernelspec": {
   "display_name": "Python 3",
   "language": "python",
   "name": "python3"
  },
  "language_info": {
   "codemirror_mode": {
    "name": "ipython",
    "version": 3
   },
   "file_extension": ".py",
   "mimetype": "text/x-python",
   "name": "python",
   "nbconvert_exporter": "python",
   "pygments_lexer": "ipython3",
   "version": "3.7.6"
  }
 },
 "nbformat": 4,
 "nbformat_minor": 4
}
