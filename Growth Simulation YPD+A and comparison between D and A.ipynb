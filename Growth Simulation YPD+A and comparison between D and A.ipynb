{
 "cells": [
  {
   "cell_type": "code",
   "execution_count": 47,
   "metadata": {},
   "outputs": [],
   "source": [
    "from __future__ import print_function\n",
    "import cobra\n",
    "import cobra.test\n",
    "from os.path import join\n",
    "cobra.DictList\n",
    "\n",
    "#iRhto1108N_model with biomass as objective\n",
    "iRhto1108N_model = cobra.io.read_sbml_model(join(r\"C:\\Users\\helen\\Desktop\\spring2020\\Rao lab\\first paper\\iRhto_memote-master\", \"iRhto.xml\"))\n",
    "iRhto1108N_model2 = cobra.io.read_sbml_model(join(r\"C:\\Users\\helen\\Desktop\\spring2020\\Rao lab\\first paper\\iRhto_memote-master\", \"iRhto.xml\"))\n",
    "iRhto1108N_model2.objective = \"PDAGATpc_rm\""
   ]
  },
  {
   "cell_type": "code",
   "execution_count": 48,
   "metadata": {},
   "outputs": [
    {
     "name": "stdout",
     "output_type": "stream",
     "text": [
      "[['EX_so4_e' 0.217]\n",
      " ['EX_mg2_e' 0.868]\n",
      " ['EX_ca2_e' 0.104]\n",
      " ['EX_pi_e' 0.439]]\n",
      "[['EX_glc__D_e' 4.63 4.63 4.63]\n",
      " ['EX_nh4_e' 4.75 0.238 0.159]\n",
      " ['EX_cl_e' 4.99 0.475 0.397]\n",
      " ['EX_na1_e' 2.26 2.26 2.26]\n",
      " ['EX_k_e' 6.27 6.27 6.27]]\n"
     ]
    }
   ],
   "source": [
    "import pandas as pd \n",
    "import numpy as np\n",
    "#import media information\n",
    "#column 0 is name of exchange reaction, column 1 is upperbound in mM/h/gwd\n",
    "YNBWAAAS = pd.read_excel(\"C:/Users/helen/Desktop/spring2020/Rao lab/media_YPD.xlsx\", 'rest of ynbwaaas 103', header = None)\n",
    "YNBWAAAS = YNBWAAAS.to_numpy()\n",
    "media_without_ynb = pd.read_excel(\"C:/Users/helen/Desktop/spring2020/Rao lab/media_YPD.xlsx\", 'media without ynb', header = None)\n",
    "media_without_ynb = media_without_ynb.to_numpy()\n",
    "\n",
    "print(YNBWAAAS)\n",
    "print(media_without_ynb)\n",
    "#initialize medium storage\n",
    "test_medium = []\n"
   ]
  },
  {
   "cell_type": "code",
   "execution_count": 58,
   "metadata": {},
   "outputs": [
    {
     "name": "stdout",
     "output_type": "stream",
     "text": [
      "0.34735658793150126\n",
      "0.4389999999999491\n"
     ]
    }
   ],
   "source": [
    "#Original growth rate and TAG production using the given medium without acetate\n",
    "growth = 0\n",
    "growth2 = 0\n",
    "with iRhto1108N_model:\n",
    "    medium = iRhto1108N_model.medium.copy()\n",
    "    for i in range(len(YNBWAAAS)):\n",
    "        medium[YNBWAAAS[i][0]] = YNBWAAAS[i][1]\n",
    "    for j in range(len(media_without_ynb)):\n",
    "        medium[media_without_ynb[j][0]] = media_without_ynb[j][1]\n",
    "    iRhto1108N_model.medium = medium\n",
    "    test_medium.append(medium.copy())\n",
    "    growth = iRhto1108N_model.slim_optimize()\n",
    "    \n",
    "with iRhto1108N_model2:\n",
    "    medium = test_medium[0].copy()\n",
    "    iRhto1108N_model2.medium = medium\n",
    "    growth2 = iRhto1108N_model2.slim_optimize()\n",
    "print(growth)\n",
    "print(growth2)"
   ]
  },
  {
   "cell_type": "code",
   "execution_count": 70,
   "metadata": {},
   "outputs": [],
   "source": [
    "#glucose and acetate\n",
    "CN_5_a = np.zeros((2,100))\n",
    "CN_100_a = np.zeros((2,100))\n",
    "CN_150_a = np.zeros((2,100))\n",
    "\n",
    "with iRhto1108N_model:\n",
    "    medium = test_medium[0].copy()\n",
    "    for k in range(100):\n",
    "        medium[\"EX_ac_e\"] = k*100/100\n",
    "        iRhto1108N_model.medium = medium\n",
    "        CN_5_a[0][k] = iRhto1108N_model.slim_optimize()\n",
    "\n",
    "with iRhto1108N_model:\n",
    "    medium = iRhto1108N_model.medium.copy()\n",
    "    for i in range(len(YNBWAAAS)):\n",
    "        medium[YNBWAAAS[i][0]] = YNBWAAAS[i][1]\n",
    "    for j in range(len(media_without_ynb)):\n",
    "        medium[media_without_ynb[j][0]] = media_without_ynb[j][2]\n",
    "    test_medium.append(medium.copy())\n",
    "    for k in range(100):\n",
    "        medium[\"EX_ac_e\"] = k*100/100\n",
    "        iRhto1108N_model.medium = medium\n",
    "        CN_100_a[0][k] = iRhto1108N_model.slim_optimize()\n",
    "        \n",
    "with iRhto1108N_model:\n",
    "    medium = iRhto1108N_model.medium.copy()\n",
    "    for i in range(len(YNBWAAAS)):\n",
    "        medium[YNBWAAAS[i][0]] = YNBWAAAS[i][1]\n",
    "    for j in range(len(media_without_ynb)):\n",
    "        medium[media_without_ynb[j][0]] = media_without_ynb[j][3]\n",
    "    test_medium.append(medium.copy())\n",
    "    for k in range(100):\n",
    "        medium[\"EX_ac_e\"] = k*100/100\n",
    "        iRhto1108N_model.medium = medium\n",
    "        CN_150_a[0][k] = iRhto1108N_model.slim_optimize()\n",
    "\n",
    "        \n",
    "        \n",
    "        \n",
    "# TAG production for YPD+A\n",
    "\n",
    "\n",
    "with iRhto1108N_model2:\n",
    "    medium = test_medium[0].copy()\n",
    "    for k in range(100):\n",
    "        medium[\"EX_ac_e\"] = k*100\n",
    "        iRhto1108N_model2.medium = medium\n",
    "        CN_5_a[1][k] = iRhto1108N_model2.slim_optimize()\n",
    "\n",
    "with iRhto1108N_model2:\n",
    "    medium = test_medium[1].copy()\n",
    "    for k in range(100):\n",
    "        medium[\"EX_ac_e\"] = k*100\n",
    "        iRhto1108N_model2.medium = medium\n",
    "        CN_100_a[1][k] = iRhto1108N_model2.slim_optimize()\n",
    "        \n",
    "with iRhto1108N_model2:\n",
    "    medium = test_medium[2].copy()\n",
    "    for k in range(100):\n",
    "        medium[\"EX_ac_e\"] = k*100\n",
    "        iRhto1108N_model2.medium = medium\n",
    "        CN_150_a[1][k] = iRhto1108N_model2.slim_optimize()\n"
   ]
  },
  {
   "cell_type": "code",
   "execution_count": 51,
   "metadata": {},
   "outputs": [
    {
     "data": {
      "text/plain": [
       "<matplotlib.legend.Legend at 0x23814845308>"
      ]
     },
     "execution_count": 51,
     "metadata": {},
     "output_type": "execute_result"
    },
    {
     "data": {
      "image/png": "[encoded data removed]",
      "text/plain": [
       "<Figure size 432x288 with 1 Axes>"
      ]
     },
     "metadata": {
      "needs_background": "light"
     },
     "output_type": "display_data"
    }
   ],
   "source": [
    "import matplotlib\n",
    "import matplotlib.pyplot as plt\n",
    "ace_x = np.linspace(1, 100, 100)\n",
    "\n",
    "plt.plot(ace_x, CN_5_a[0], label = \"CN_5\")\n",
    "plt.plot(ace_x, CN_100_a[0], color = \"red\", label = \"CN_100\")\n",
    "plt.plot(ace_x, CN_150_a[0], color = \"green\", label = \"CN_150\")\n",
    "x_coordinates = [0, 100]\n",
    "y_coordinates = [0.347, 0.347]\n",
    "plt.plot(x_coordinates, y_coordinates, color = \"black\", label = \"0.347(optimal growth without acetate)\")\n",
    "plt.xlabel(\"acetate addition mmol/h/gdw\")\n",
    "plt.ylabel(\"growth yield %\")\n",
    "plt.legend()"
   ]
  },
  {
   "cell_type": "code",
   "execution_count": 71,
   "metadata": {},
   "outputs": [
    {
     "data": {
      "text/plain": [
       "<matplotlib.legend.Legend at 0x2381ccd7fc8>"
      ]
     },
     "execution_count": 71,
     "metadata": {},
     "output_type": "execute_result"
    },
    {
     "data": {
      "image/png": "[encoded data removed]",
      "text/plain": [
       "<Figure size 432x288 with 1 Axes>"
      ]
     },
     "metadata": {
      "needs_background": "light"
     },
     "output_type": "display_data"
    }
   ],
   "source": [
    "ace_x = np.linspace(1, 100, 100)\n",
    "\n",
    "plt.plot(ace_x, CN_5_a[1], label = \"CN_5\")\n",
    "plt.plot(ace_x, CN_100_a[1], color = \"red\", label = \"CN_100\")\n",
    "plt.plot(ace_x, CN_150_a[1], color = \"green\", label = \"CN_150\")\n",
    "x_coordinates = [0, 100]\n",
    "y_coordinates = [growth2, growth2]\n",
    "plt.plot(x_coordinates, y_coordinates, color = \"black\", label = \"1.89(optimal growth without acetate)\")\n",
    "plt.xlabel(\"acetate addition mmol/h/gdw\")\n",
    "plt.ylabel(\"TAG yield %\")\n",
    "plt.legend()"
   ]
  },
  {
   "cell_type": "code",
   "execution_count": 53,
   "metadata": {},
   "outputs": [],
   "source": [
    "# Comparison between YPD and YPA under the control of mmol/h/cdw equivalent to 4.63 mmol/h/gDW of glucose\n",
    "\n",
    "CN_5_d = np.zeros((2,100))\n",
    "CN_5_oa = np.zeros((2,100))\n",
    "\n",
    "#import acetate only medium\n",
    "#Note that glucose here is still not zero\n",
    "YNBWAAAS_a = pd.read_excel(\"C:/Users/helen/Desktop/spring2020/Rao lab/media_YPA.xlsx\", 'rest of ynbwaaas 103', header = None)\n",
    "YNBWAAAS_a = YNBWAAAS_a.to_numpy()\n",
    "media_without_ynb_a = pd.read_excel(\"C:/Users/helen/Desktop/spring2020/Rao lab/media_YPA.xlsx\", 'media without ynb', header = None)\n",
    "media_without_ynb_a = media_without_ynb_a.to_numpy()\n",
    "\n",
    "test_medium_a = []"
   ]
  },
  {
   "cell_type": "code",
   "execution_count": 68,
   "metadata": {},
   "outputs": [],
   "source": [
    "#Comparison between YPD and YPA on growth rate\n",
    "with iRhto1108N_model:\n",
    "    medium = test_medium[0].copy()\n",
    "    medium[\"EX_glc__D_e\"] = 0\n",
    "    for k in range(100):\n",
    "        medium[\"EX_glc__D_e\"] = k*4.63/100\n",
    "        iRhto1108N_model.medium = medium\n",
    "        CN_5_d[0][k] = iRhto1108N_model.slim_optimize()\n",
    "\n",
    "with iRhto1108N_model:\n",
    "    medium = iRhto1108N_model.medium.copy()\n",
    "    for i in range(len(YNBWAAAS)):\n",
    "        medium[YNBWAAAS_a[i][0]] = YNBWAAAS_a[i][1]\n",
    "    for j in range(len(media_without_ynb)):\n",
    "        medium[media_without_ynb_a[j][0]] = media_without_ynb_a[j][1]\n",
    "    \n",
    "    #Remember to set glucose to zero\n",
    "    \n",
    "    medium[\"EX_glc__D_e\"] = 0\n",
    "    test_medium_a.append(medium.copy())\n",
    "    for k in range(100):\n",
    "        medium[\"EX_ac_e\"] = k*13.89/100\n",
    "        iRhto1108N_model.medium = medium\n",
    "        CN_5_oa[0][k] = iRhto1108N_model.slim_optimize()\n"
   ]
  },
  {
   "cell_type": "code",
   "execution_count": 67,
   "metadata": {},
   "outputs": [],
   "source": [
    "#Comparison between YPD and YPA on TAG production rate\n",
    "\n",
    "with iRhto1108N_model2:\n",
    "    medium = test_medium[0].copy()\n",
    "    medium[\"EX_glc__D_e\"] = 0\n",
    "    for k in range(100):\n",
    "        medium[\"EX_glc__D_e\"] = k*4.63/100\n",
    "        iRhto1108N_model2.medium = medium\n",
    "        CN_5_d[1][k] = iRhto1108N_model2.slim_optimize()\n",
    "\n",
    "with iRhto1108N_model2:\n",
    "    medium = test_medium_a[0].copy()\n",
    "    for k in range(100):\n",
    "        medium[\"EX_ac_e\"] = k*13.89/100\n",
    "        iRhto1108N_model2.medium = medium\n",
    "        CN_5_oa[1][k] = iRhto1108N_model2.slim_optimize()\n"
   ]
  },
  {
   "cell_type": "code",
   "execution_count": 56,
   "metadata": {},
   "outputs": [
    {
     "data": {
      "text/plain": [
       "<matplotlib.legend.Legend at 0x23814edc248>"
      ]
     },
     "execution_count": 56,
     "metadata": {},
     "output_type": "execute_result"
    },
    {
     "data": {
      "image/png": "[encoded data removed]",
      "text/plain": [
       "<Figure size 432x288 with 1 Axes>"
      ]
     },
     "metadata": {
      "needs_background": "light"
     },
     "output_type": "display_data"
    }
   ],
   "source": [
    "#Visualize of growth rate\n",
    "ace_x = np.linspace(1, 100, 100)\n",
    "\n",
    "plt.plot(ace_x, CN_5_d[0], label = \"YPD\")\n",
    "plt.plot(ace_x, CN_5_oa[0], color = \"red\", label = \"YPA\")\n",
    "#plt.plot(ace_x, CN_150_a[1], color = \"green\", label = \"CN_150\")\n",
    "# x_coordinates = [0, 100]\n",
    "# y_coordinates = [growth2, growth2]\n",
    "# plt.plot(x_coordinates, y_coordinates, color = \"black\", label = \"1.89(optimal growth without acetate)\")\n",
    "plt.xlabel(\"acetate(13.89) or glucose(4.63) addition % (mmol/h/gdw)\")\n",
    "plt.ylabel(\"Growth Rate %\")\n",
    "plt.legend()"
   ]
  },
  {
   "cell_type": "code",
   "execution_count": 69,
   "metadata": {},
   "outputs": [
    {
     "data": {
      "text/plain": [
       "<matplotlib.legend.Legend at 0x2381ccb5b08>"
      ]
     },
     "execution_count": 69,
     "metadata": {},
     "output_type": "execute_result"
    },
    {
     "data": {
      "image/png": "[encoded data removed]",
      "text/plain": [
       "<Figure size 432x288 with 1 Axes>"
      ]
     },
     "metadata": {
      "needs_background": "light"
     },
     "output_type": "display_data"
    }
   ],
   "source": [
    "#Visualize of TAG production rate\n",
    "ace_x = np.linspace(1, 100, 100)\n",
    "\n",
    "plt.plot(ace_x, CN_5_d[1], label = \"YPD\")\n",
    "plt.plot(ace_x, CN_5_oa[1], color = \"red\", label = \"YPA\")\n",
    "#plt.plot(ace_x, CN_150_a[1], color = \"green\", label = \"CN_150\")\n",
    "# x_coordinates = [0, 100]\n",
    "# y_coordinates = [growth2, growth2]\n",
    "# plt.plot(x_coordinates, y_coordinates, color = \"black\", label = \"1.89(optimal growth without acetate)\")\n",
    "plt.xlabel(\"acetate(13.89) or glucose(4.63) addition % (mmol/h/gdw)\")\n",
    "plt.ylabel(\"TAG Production Rate %\")\n",
    "plt.legend()"
   ]
  }
 ],
 "metadata": {
  "kernelspec": {
   "display_name": "Python 3",
   "language": "python",
   "name": "python3"
  },
  "language_info": {
   "codemirror_mode": {
    "name": "ipython",
    "version": 3
   },
   "file_extension": ".py",
   "mimetype": "text/x-python",
   "name": "python",
   "nbconvert_exporter": "python",
   "pygments_lexer": "ipython3",
   "version": "3.7.6"
  }
 },
 "nbformat": 4,
 "nbformat_minor": 4
}
