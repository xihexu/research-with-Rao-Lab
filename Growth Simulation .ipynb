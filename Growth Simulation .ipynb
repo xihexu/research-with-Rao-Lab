{
 "cells": [
  {
   "cell_type": "code",
   "execution_count": 1,
   "metadata": {},
   "outputs": [],
   "source": [
    "from __future__ import print_function\n",
    "import cobra\n",
    "import cobra.test\n",
    "from os.path import join\n",
    "cobra.DictList\n",
    "\n",
    "#iRhto1108N_model with biomass as objective\n",
    "iRhto1108N_model = cobra.io.read_sbml_model(join(r\"C:\\Users\\helen\\Desktop\\spring2020\\Rao lab\\first paper\\iRhto_memote-master\", \"iRhto.xml\"))\n"
   ]
  },
  {
   "cell_type": "code",
   "execution_count": 2,
   "metadata": {
    "scrolled": true
   },
   "outputs": [],
   "source": [
    "import pandas as pd \n",
    "import numpy as np\n",
    "#column 0 is name of exchange reaction, column 1 is upperbound in mM/h/gwd\n",
    "YNBWAAAS = pd.read_excel(\"C:/Users/helen/Desktop/spring2020/Rao lab/media.xlsx\", 'rest of ynbwaaas', header = None)\n",
    "media_without_ynb = pd.read_excel(\"C:/Users/helen/Desktop/spring2020/Rao lab/media.xlsx\", 'media without ynb', header = None)\n"
   ]
  },
  {
   "cell_type": "code",
   "execution_count": 9,
   "metadata": {},
   "outputs": [
    {
     "data": {
      "text/plain": [
       "[0.34735658793149343]"
      ]
     },
     "execution_count": 9,
     "metadata": {},
     "output_type": "execute_result"
    }
   ],
   "source": [
    "#original growth rate\n",
    "growth = []\n",
    "with iRhto1108N_model:\n",
    "    medium = iRhto1108N_model.medium\n",
    "    for i in range(len(YNBWAAAS)):\n",
    "        medium[YNBWAAAS[0][i]] = YNBWAAAS[1][i]\n",
    "    for j in range(len(media_without_ynb)):\n",
    "        medium[media_without_ynb[0][j]] = media_without_ynb[1][j]\n",
    "    iRhto1108N_model.medium = medium\n",
    "    growth.append(iRhto1108N_model.slim_optimize())\n",
    "growth"
   ]
  },
  {
   "cell_type": "code",
   "execution_count": 8,
   "metadata": {},
   "outputs": [
    {
     "data": {
      "text/plain": [
       "[0.3751199940813112]"
      ]
     },
     "execution_count": 8,
     "metadata": {},
     "output_type": "execute_result"
    }
   ],
   "source": [
    "#add valine to test growth rate\n",
    "growth_v = []\n",
    "with iRhto1108N_model:\n",
    "    medium = iRhto1108N_model.medium\n",
    "    for i in range(len(YNBWAAAS)):\n",
    "        medium[YNBWAAAS[0][i]] = YNBWAAAS[1][i]\n",
    "    for j in range(len(media_without_ynb)):\n",
    "        medium[media_without_ynb[0][j]] = media_without_ynb[1][j]\n",
    "    medium[\"EX_val__L_e\"] = 10/5\n",
    "    iRhto1108N_model.medium = medium\n",
    "    growth_v.append(iRhto1108N_model.slim_optimize())\n",
    "growth_v"
   ]
  },
  {
   "cell_type": "code",
   "execution_count": 10,
   "metadata": {},
   "outputs": [
    {
     "data": {
      "text/plain": [
       "[0.34735658793149343]"
      ]
     },
     "execution_count": 10,
     "metadata": {},
     "output_type": "execute_result"
    }
   ],
   "source": [
    "#add leucine to test growth rate\n",
    "growth_l = []\n",
    "with iRhto1108N_model:\n",
    "    medium = iRhto1108N_model.medium\n",
    "    for i in range(len(YNBWAAAS)):\n",
    "        medium[YNBWAAAS[0][i]] = YNBWAAAS[1][i]\n",
    "    for j in range(len(media_without_ynb)):\n",
    "        medium[media_without_ynb[0][j]] = media_without_ynb[1][j]\n",
    "    #edium[\"EX_ile__L_e\"] = 10/6\n",
    "    iRhto1108N_model.medium = medium\n",
    "    growth_l.append(iRhto1108N_model.slim_optimize())\n",
    "growth_l"
   ]
  },
  {
   "cell_type": "code",
   "execution_count": 20,
   "metadata": {},
   "outputs": [
    {
     "data": {
      "text/plain": [
       "3"
      ]
     },
     "execution_count": 20,
     "metadata": {},
     "output_type": "execute_result"
    }
   ],
   "source": [
    "len(YNBWAAAS)"
   ]
  }
 ],
 "metadata": {
  "kernelspec": {
   "display_name": "Python 3",
   "language": "python",
   "name": "python3"
  },
  "language_info": {
   "codemirror_mode": {
    "name": "ipython",
    "version": 3
   },
   "file_extension": ".py",
   "mimetype": "text/x-python",
   "name": "python",
   "nbconvert_exporter": "python",
   "pygments_lexer": "ipython3",
   "version": "3.7.6"
  }
 },
 "nbformat": 4,
 "nbformat_minor": 4
}
