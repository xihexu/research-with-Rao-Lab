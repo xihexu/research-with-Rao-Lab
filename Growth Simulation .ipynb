{
 "cells": [
  {
   "cell_type": "code",
   "execution_count": 11,
   "metadata": {},
   "outputs": [],
   "source": [
    "from __future__ import print_function\n",
    "import cobra\n",
    "import cobra.test\n",
    "from os.path import join\n",
    "cobra.DictList\n",
    "\n",
    "#iRhto1108N_model with biomass as objective\n",
    "iRhto1108N_model = cobra.io.read_sbml_model(join(r\"C:\\Users\\helen\\Desktop\\spring2020\\Rao lab\\first paper\\iRhto_memote-master\", \"iRhto.xml\"))\n",
    "iRhto1108N_model2 = cobra.io.read_sbml_model(join(r\"C:\\Users\\helen\\Desktop\\spring2020\\Rao lab\\first paper\\iRhto_memote-master\", \"iRhto.xml\"))\n",
    "iRhto1108N_model2.objective = \"PDAGATpc_rm\""
   ]
  },
  {
   "cell_type": "code",
   "execution_count": 2,
   "metadata": {
    "scrolled": true
   },
   "outputs": [],
   "source": [
    "import pandas as pd \n",
    "import numpy as np\n",
    "#column 0 is name of exchange reaction, column 1 is upperbound in mM/h/gwd\n",
    "YNBWAAAS = pd.read_excel(\"C:/Users/helen/Desktop/spring2020/Rao lab/media.xlsx\", 'rest of ynbwaaas', header = None)\n",
    "media_without_ynb = pd.read_excel(\"C:/Users/helen/Desktop/spring2020/Rao lab/media.xlsx\", 'media without ynb', header = None)\n"
   ]
  },
  {
   "cell_type": "code",
   "execution_count": 9,
   "metadata": {},
   "outputs": [
    {
     "data": {
      "text/plain": [
       "[0.34735658793149343]"
      ]
     },
     "execution_count": 9,
     "metadata": {},
     "output_type": "execute_result"
    }
   ],
   "source": [
    "#original growth rate\n",
    "growth = []\n",
    "with iRhto1108N_model:\n",
    "    medium = iRhto1108N_model.medium\n",
    "    for i in range(len(YNBWAAAS)):\n",
    "        medium[YNBWAAAS[0][i]] = YNBWAAAS[1][i]\n",
    "    for j in range(len(media_without_ynb)):\n",
    "        medium[media_without_ynb[0][j]] = media_without_ynb[1][j]\n",
    "    iRhto1108N_model.medium = medium\n",
    "    growth.append(iRhto1108N_model.slim_optimize())\n",
    "growth"
   ]
  },
  {
   "cell_type": "code",
   "execution_count": 8,
   "metadata": {},
   "outputs": [
    {
     "data": {
      "text/plain": [
       "[0.3751199940813112]"
      ]
     },
     "execution_count": 8,
     "metadata": {},
     "output_type": "execute_result"
    }
   ],
   "source": [
    "#add valine to test growth rate\n",
    "growth_v = []\n",
    "with iRhto1108N_model:\n",
    "    medium = iRhto1108N_model.medium\n",
    "    for i in range(len(YNBWAAAS)):\n",
    "        medium[YNBWAAAS[0][i]] = YNBWAAAS[1][i]\n",
    "    for j in range(len(media_without_ynb)):\n",
    "        medium[media_without_ynb[0][j]] = media_without_ynb[1][j]\n",
    "    medium[\"EX_val__L_e\"] = 10/5\n",
    "    iRhto1108N_model.medium = medium\n",
    "    growth_v.append(iRhto1108N_model.slim_optimize())\n",
    "growth_v"
   ]
  },
  {
   "cell_type": "code",
   "execution_count": 12,
   "metadata": {},
   "outputs": [
    {
     "data": {
      "text/plain": [
       "[0.3473565879315005]"
      ]
     },
     "execution_count": 12,
     "metadata": {},
     "output_type": "execute_result"
    }
   ],
   "source": [
    "#add leucine to test growth rate\n",
    "growth_l = []\n",
    "with iRhto1108N_model:\n",
    "    medium = iRhto1108N_model.medium\n",
    "    for i in range(len(YNBWAAAS)):\n",
    "        medium[YNBWAAAS[0][i]] = YNBWAAAS[1][i]\n",
    "    for j in range(len(media_without_ynb)):\n",
    "        medium[media_without_ynb[0][j]] = media_without_ynb[1][j]\n",
    "    medium[\"EX_ile__L_e\"] = 10/6\n",
    "    iRhto1108N_model.medium = medium\n",
    "    growth_l.append(iRhto1108N_model.slim_optimize())\n",
    "growth_l"
   ]
  },
  {
   "cell_type": "code",
   "execution_count": 14,
   "metadata": {},
   "outputs": [
    {
     "name": "stdout",
     "output_type": "stream",
     "text": [
      "original: [1.750456277608363]\n",
      "with Valine: [1.8138914927429486]\n",
      "with leucine: [1.7504562776083648]\n"
     ]
    }
   ],
   "source": [
    "#test TAG production\n",
    "TAG = []\n",
    "TAG_v = []\n",
    "TAG_l = []\n",
    "\n",
    "with iRhto1108N_model2:\n",
    "    medium = iRhto1108N_model2.medium\n",
    "    for i in range(len(YNBWAAAS)):\n",
    "        medium[YNBWAAAS[0][i]] = YNBWAAAS[1][i]\n",
    "    for j in range(len(media_without_ynb)):\n",
    "        medium[media_without_ynb[0][j]] = media_without_ynb[1][j]\n",
    "    iRhto1108N_model2.medium = medium\n",
    "    TAG.append(iRhto1108N_model2.slim_optimize())\n",
    "    \n",
    "    \n",
    "with iRhto1108N_model2:\n",
    "    medium = iRhto1108N_model2.medium\n",
    "    for i in range(len(YNBWAAAS)):\n",
    "        medium[YNBWAAAS[0][i]] = YNBWAAAS[1][i]\n",
    "    for j in range(len(media_without_ynb)):\n",
    "        medium[media_without_ynb[0][j]] = media_without_ynb[1][j]\n",
    "    medium[\"EX_val__L_e\"] = 10/5\n",
    "    iRhto1108N_model2.medium = medium\n",
    "    TAG_v.append(iRhto1108N_model2.slim_optimize())\n",
    "\n",
    "    \n",
    "with iRhto1108N_model2:\n",
    "    medium = iRhto1108N_model2.medium\n",
    "    for i in range(len(YNBWAAAS)):\n",
    "        medium[YNBWAAAS[0][i]] = YNBWAAAS[1][i]\n",
    "    for j in range(len(media_without_ynb)):\n",
    "        medium[media_without_ynb[0][j]] = media_without_ynb[1][j]\n",
    "    medium[\"EX_ile__L_e\"] = 10/6\n",
    "    iRhto1108N_model2.medium = medium\n",
    "    TAG_l.append(iRhto1108N_model2.slim_optimize())\n",
    "\n",
    "print(\"original:\", TAG)\n",
    "print(\"with Valine:\", TAG_v)\n",
    "print(\"with leucine:\", TAG_l)"
   ]
  },
  {
   "cell_type": "code",
   "execution_count": 16,
   "metadata": {},
   "outputs": [
    {
     "name": "stdout",
     "output_type": "stream",
     "text": [
      "growth rate: 0.3753060889842461\n",
      "TAG production: 1.8912824552071372\n"
     ]
    }
   ],
   "source": [
    "#original growth rate and TAG production\n",
    "print(\"growth rate:\", iRhto1108N_model.slim_optimize())\n",
    "print(\"TAG production:\", iRhto1108N_model2.slim_optimize())"
   ]
  }
 ],
 "metadata": {
  "kernelspec": {
   "display_name": "Python 3",
   "language": "python",
   "name": "python3"
  },
  "language_info": {
   "codemirror_mode": {
    "name": "ipython",
    "version": 3
   },
   "file_extension": ".py",
   "mimetype": "text/x-python",
   "name": "python",
   "nbconvert_exporter": "python",
   "pygments_lexer": "ipython3",
   "version": "3.7.6"
  }
 },
 "nbformat": 4,
 "nbformat_minor": 4
}
