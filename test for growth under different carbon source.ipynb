{
 "cells": [
  {
   "cell_type": "code",
   "execution_count": 1,
   "metadata": {},
   "outputs": [],
   "source": [
    "from __future__ import print_function\n",
    "import cobra\n",
    "import cobra.test\n",
    "from os.path import join\n",
    "from cobra.medium import minimal_medium\n",
    "from cobra.flux_analysis import production_envelope\n",
    "import numpy as np\n",
    "import math\n",
    "cobra.DictList\n",
    "\n",
    "#iRhto1108N_model with biomass as objective\n",
    "iRhto1108N_model = cobra.io.read_sbml_model(join(r\"C:\\Users\\helen\\Desktop\\spring2020\\Rao lab\\iRhto_memote-master\", \"iRhto.xml\"))"
   ]
  },
  {
   "cell_type": "code",
   "execution_count": 8,
   "metadata": {
    "scrolled": true
   },
   "outputs": [
    {
     "data": {
      "text/plain": [
       "{'EX_glc__D_e': 0.3753060889842411,\n",
       " 'EX_xyl__D_e': 0.31235676260621376,\n",
       " 'EX_ac_e': 0.11170578344737293,\n",
       " 'EX_glyc_e': 0.21668773699236693,\n",
       " 'EX_fru_e': 0.37530608898426226,\n",
       " 'EX_man_e': 0.37530608898424345,\n",
       " 'EX_sucr_e': 0.7530020491564821,\n",
       " 'EX_cellb_e': 0.753002049156487}"
      ]
     },
     "execution_count": 8,
     "metadata": {},
     "output_type": "execute_result"
    }
   ],
   "source": [
    "carbon_source = [\"EX_glc__D_e\", \"EX_xyl__D_e\", \"EX_ac_e\", \"EX_glyc_e\", \"EX_fru_e\", \"EX_man_e\", \"EX_sucr_e\", \"EX_cellb_e\"]\n",
    "mass = [180, 150, 82, 92, 180, 180, 342, 342]\n",
    "carbon_amount = [6, 5, 2, 3, 6, 6, 12, 12]\n",
    "dic = {}\n",
    "for i in range(8):\n",
    "    with iRhto1108N_model:\n",
    "        medium = iRhto1108N_model.medium\n",
    "        medium[\"EX_glc__D_e\"] = 0\n",
    "        medium[carbon_source[i]] = 5\n",
    "        #carbon_amount[0]*iRhto1108N_model.medium[\"EX_glc__D_e\"]*mass[i]/(mass[0]*carbon_amount[i])\n",
    "        iRhto1108N_model.medium = medium\n",
    "#         if i == 2:\n",
    "#             print(medium)\n",
    "        dic[carbon_source[i]] = iRhto1108N_model.slim_optimize()\n",
    "dic\n"
   ]
  },
  {
   "cell_type": "code",
   "execution_count": 6,
   "metadata": {},
   "outputs": [
    {
     "data": {
      "text/plain": [
       "{'EX_nh4_e': 1000.0,\n",
       " 'EX_glc__D_e': 5.0,\n",
       " 'EX_fe2_e': 1000.0,\n",
       " 'EX_o2_e': 1000.0,\n",
       " 'EX_pi_e': 1000.0,\n",
       " 'EX_na1_e': 1000.0,\n",
       " 'EX_so4_e': 1000.0,\n",
       " 'EX_h_e': 1000.0,\n",
       " 'EX_k_e': 1000.0,\n",
       " 'EX_h2o_e': 1000.0,\n",
       " 'EX_ca2_e': 1000.0,\n",
       " 'EX_cl_e': 1000.0,\n",
       " 'EX_cobalt2_e': 1000.0,\n",
       " 'EX_cu2_e': 1000.0,\n",
       " 'EX_mg2_e': 1000.0,\n",
       " 'EX_mn2_e': 1000.0,\n",
       " 'EX_zn2_e': 1000.0,\n",
       " 'EX_btn_c': 0.01}"
      ]
     },
     "execution_count": 6,
     "metadata": {},
     "output_type": "execute_result"
    }
   ],
   "source": [
    "iRhto1108N_model.medium"
   ]
  },
  {
   "cell_type": "code",
   "execution_count": 3,
   "metadata": {},
   "outputs": [
    {
     "data": {
      "text/plain": [
       "<matplotlib.legend.Legend at 0x2f9bfe68208>"
      ]
     },
     "execution_count": 3,
     "metadata": {},
     "output_type": "execute_result"
    },
    {
     "data": {
      "image/png": "[encoded data removed]",
      "text/plain": [
       "<Figure size 432x288 with 1 Axes>"
      ]
     },
     "metadata": {
      "needs_background": "light"
     },
     "output_type": "display_data"
    }
   ],
   "source": [
    "import matplotlib\n",
    "import matplotlib.pyplot as plt\n",
    "acetate = []\n",
    "ace_x = np.linspace(1, 100, 100)\n",
    "glycerol = []\n",
    "gly_x = np.linspace(1, 100, 100)\n",
    "glucose = []\n",
    "glu_x = np.linspace(1, 100, 100)\n",
    "\n",
    "for i in range(100):\n",
    "    with iRhto1108N_model:\n",
    "        medium = iRhto1108N_model.medium\n",
    "        medium[\"EX_glc__D_e\"] = 0\n",
    "        if i != 0:\n",
    "            medium[\"EX_ac_e\"] = i*15/100\n",
    "            iRhto1108N_model.medium = medium\n",
    "            acetate.append(iRhto1108N_model.slim_optimize())\n",
    "        else:\n",
    "            acetate.append(0)\n",
    "\n",
    "for i in range(100):\n",
    "    with iRhto1108N_model:\n",
    "        medium = iRhto1108N_model.medium\n",
    "        medium[\"EX_glc__D_e\"] = 0\n",
    "        if i != 0:\n",
    "            medium[\"EX_glyc_e\"] = i*10/100\n",
    "            iRhto1108N_model.medium = medium\n",
    "            glycerol.append(iRhto1108N_model.slim_optimize())\n",
    "        else:\n",
    "            glycerol.append(0)\n",
    "            \n",
    "for i in range(100):\n",
    "    with iRhto1108N_model:\n",
    "        medium = iRhto1108N_model.medium\n",
    "        if i != 0:\n",
    "            medium[\"EX_glc__D_e\"] = i*5/100\n",
    "            iRhto1108N_model.medium = medium\n",
    "            glucose.append(iRhto1108N_model.slim_optimize())\n",
    "        else:\n",
    "            glucose.append(0)\n",
    "\n",
    "plt.plot(ace_x, glucose, label = \"glucose\")\n",
    "plt.plot(ace_x, acetate, color = \"red\", label = \"acetate\")\n",
    "plt.plot(ace_x, glycerol, color = \"green\", label = \"glycerol\")\n",
    "x_coordinates = [0, 100]\n",
    "y_coordinates = [0.357, 0.357]\n",
    "plt.plot(x_coordinates, y_coordinates, color = \"black\", label = \"0.357(max growth)\")\n",
    "plt.xlabel(\"carbon source uptake %\")\n",
    "plt.ylabel(\"growth yield\")\n",
    "plt.legend()"
   ]
  }
 ],
 "metadata": {
  "kernelspec": {
   "display_name": "Python 3",
   "language": "python",
   "name": "python3"
  },
  "language_info": {
   "codemirror_mode": {
    "name": "ipython",
    "version": 3
   },
   "file_extension": ".py",
   "mimetype": "text/x-python",
   "name": "python",
   "nbconvert_exporter": "python",
   "pygments_lexer": "ipython3",
   "version": "3.7.6"
  }
 },
 "nbformat": 4,
 "nbformat_minor": 4
}
